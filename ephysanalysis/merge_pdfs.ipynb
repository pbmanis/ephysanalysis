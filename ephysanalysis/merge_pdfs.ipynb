{
 "cells": [
  {
   "cell_type": "code",
   "execution_count": 12,
   "metadata": {},
   "outputs": [
    {
     "name": "stdout",
     "output_type": "stream",
     "text": [
      "[PosixPath('/Users/pbmanis/Desktop/Python/awrdata/.DS_Store'), PosixPath('/Users/pbmanis/Desktop/Python/awrdata/TTS'), PosixPath('/Users/pbmanis/Desktop/Python/awrdata/PTS'), PosixPath('/Users/pbmanis/Desktop/Python/awrdata/CTL')]\n"
     ]
    }
   ],
   "source": [
    "\"\"\"\n",
    "Simple merge of PDFS\n",
    "\"\"\"\n",
    "from PyPDF2 import PdfFileMerger\n",
    "from PyPDF2 import PdfFileReader\n",
    "from pathlib import Path\n",
    "\n",
    "basedir = '/Users/pbmanis/Desktop/Python/awrdata'\n",
    "\n",
    "dirs = list(Path(basedir).glob('*'))\n",
    "print(dirs)\n"
   ]
  },
  {
   "cell_type": "code",
   "execution_count": 20,
   "metadata": {},
   "outputs": [
    {
     "name": "stdout",
     "output_type": "stream",
     "text": [
      "[PosixPath('/Users/pbmanis/Desktop/Python/awrdata/TTS/18mar09a.pdf'), PosixPath('/Users/pbmanis/Desktop/Python/awrdata/TTS/18mar09b.pdf'), PosixPath('/Users/pbmanis/Desktop/Python/awrdata/TTS/11feb09b.pdf'), PosixPath('/Users/pbmanis/Desktop/Python/awrdata/TTS/18mar09d.pdf'), PosixPath('/Users/pbmanis/Desktop/Python/awrdata/TTS/03feb09b.pdf'), PosixPath('/Users/pbmanis/Desktop/Python/awrdata/TTS/03feb09c.pdf'), PosixPath('/Users/pbmanis/Desktop/Python/awrdata/TTS/09apr09b.pdf'), PosixPath('/Users/pbmanis/Desktop/Python/awrdata/TTS/09apr09d.pdf'), PosixPath('/Users/pbmanis/Desktop/Python/awrdata/TTS/17mar09c.pdf'), PosixPath('/Users/pbmanis/Desktop/Python/awrdata/TTS/17jan09c.pdf'), PosixPath('/Users/pbmanis/Desktop/Python/awrdata/TTS/03mar09b.pdf'), PosixPath('/Users/pbmanis/Desktop/Python/awrdata/TTS/17mar09e.pdf'), PosixPath('/Users/pbmanis/Desktop/Python/awrdata/TTS/03mar09d.pdf'), PosixPath('/Users/pbmanis/Desktop/Python/awrdata/TTS/03mar09f.pdf'), PosixPath('/Users/pbmanis/Desktop/Python/awrdata/TTS/13feb09d.pdf'), PosixPath('/Users/pbmanis/Desktop/Python/awrdata/TTS/04mar09d.pdf'), PosixPath('/Users/pbmanis/Desktop/Python/awrdata/TTS/19feb09d.pdf'), PosixPath('/Users/pbmanis/Desktop/Python/awrdata/TTS/04mar09a.pdf'), PosixPath('/Users/pbmanis/Desktop/Python/awrdata/TTS/27feb09e.pdf')]\n",
      "[PosixPath('/Users/pbmanis/Desktop/Python/awrdata/PTS/04jun09h.pdf'), PosixPath('/Users/pbmanis/Desktop/Python/awrdata/PTS/04jun09k.pdf'), PosixPath('/Users/pbmanis/Desktop/Python/awrdata/PTS/04jun09j.pdf'), PosixPath('/Users/pbmanis/Desktop/Python/awrdata/PTS/04may09b.pdf'), PosixPath('/Users/pbmanis/Desktop/Python/awrdata/PTS/29may09f.pdf'), PosixPath('/Users/pbmanis/Desktop/Python/awrdata/PTS/29may09e.pdf'), PosixPath('/Users/pbmanis/Desktop/Python/awrdata/PTS/16apr09a.pdf'), PosixPath('/Users/pbmanis/Desktop/Python/awrdata/PTS/11may09b.pdf'), PosixPath('/Users/pbmanis/Desktop/Python/awrdata/PTS/29may09b.pdf'), PosixPath('/Users/pbmanis/Desktop/Python/awrdata/PTS/19may09a.pdf'), PosixPath('/Users/pbmanis/Desktop/Python/awrdata/PTS/05jun09a.pdf'), PosixPath('/Users/pbmanis/Desktop/Python/awrdata/PTS/19may09b.pdf'), PosixPath('/Users/pbmanis/Desktop/Python/awrdata/PTS/20apr09d.pdf'), PosixPath('/Users/pbmanis/Desktop/Python/awrdata/PTS/20apr09c.pdf'), PosixPath('/Users/pbmanis/Desktop/Python/awrdata/PTS/01may09c.pdf'), PosixPath('/Users/pbmanis/Desktop/Python/awrdata/PTS/04jun09c.pdf'), PosixPath('/Users/pbmanis/Desktop/Python/awrdata/PTS/04jun09d.pdf')]\n",
      "[PosixPath('/Users/pbmanis/Desktop/Python/awrdata/CTL/15jan09b.pdf'), PosixPath('/Users/pbmanis/Desktop/Python/awrdata/CTL/22dec08e.pdf'), PosixPath('/Users/pbmanis/Desktop/Python/awrdata/CTL/22dec08d.pdf'), PosixPath('/Users/pbmanis/Desktop/Python/awrdata/CTL/22dec08f.pdf'), PosixPath('/Users/pbmanis/Desktop/Python/awrdata/CTL/29dec08c.pdf'), PosixPath('/Users/pbmanis/Desktop/Python/awrdata/CTL/11dec08a.pdf'), PosixPath('/Users/pbmanis/Desktop/Python/awrdata/CTL/22dec08c.pdf'), PosixPath('/Users/pbmanis/Desktop/Python/awrdata/CTL/07jan09b.pdf'), PosixPath('/Users/pbmanis/Desktop/Python/awrdata/CTL/19nov08a.pdf'), PosixPath('/Users/pbmanis/Desktop/Python/awrdata/CTL/29dec08d.pdf'), PosixPath('/Users/pbmanis/Desktop/Python/awrdata/CTL/21jan09b.pdf'), PosixPath('/Users/pbmanis/Desktop/Python/awrdata/CTL/12jan09f.pdf'), PosixPath('/Users/pbmanis/Desktop/Python/awrdata/CTL/10dec08a.pdf'), PosixPath('/Users/pbmanis/Desktop/Python/awrdata/CTL/21jan09e.pdf'), PosixPath('/Users/pbmanis/Desktop/Python/awrdata/CTL/18nov08a.pdf'), PosixPath('/Users/pbmanis/Desktop/Python/awrdata/CTL/16dec08a.pdf'), PosixPath('/Users/pbmanis/Desktop/Python/awrdata/CTL/08jan09d.pdf'), PosixPath('/Users/pbmanis/Desktop/Python/awrdata/CTL/22jan09d.pdf'), PosixPath('/Users/pbmanis/Desktop/Python/awrdata/CTL/08jan09a.pdf'), PosixPath('/Users/pbmanis/Desktop/Python/awrdata/CTL/18dec08a.pdf'), PosixPath('/Users/pbmanis/Desktop/Python/awrdata/CTL/15dec08a.pdf'), PosixPath('/Users/pbmanis/Desktop/Python/awrdata/CTL/12jan09h.pdf'), PosixPath('/Users/pbmanis/Desktop/Python/awrdata/CTL/02jan09b.pdf'), PosixPath('/Users/pbmanis/Desktop/Python/awrdata/CTL/02jan09a.pdf'), PosixPath('/Users/pbmanis/Desktop/Python/awrdata/CTL/03nov08a.pdf')]\n"
     ]
    }
   ],
   "source": [
    "for directory in dirs:\n",
    "    if directory.match('.DS_Store'):\n",
    "        continue\n",
    "    outpdf = Path(directory.stem).with_suffix('.pdf')\n",
    "    pdfs = list(directory.glob('*.pdf'))\n",
    "    pdf_merger = PdfFileMerger()\n",
    "    print(pdfs)\n",
    "    for fn in pdfs:\n",
    "        with open(fn, 'rb') as fh:\n",
    "            pdf_merger.append(PdfFileReader(fh))\n",
    "    with open(Path(basedir, outpdf), 'wb') as fo:\n",
    "        pdf_merger.write(fo)\n"
   ]
  },
  {
   "cell_type": "code",
   "execution_count": null,
   "metadata": {},
   "outputs": [],
   "source": []
  }
 ],
 "metadata": {
  "kernelspec": {
   "display_name": "Python 3",
   "language": "python",
   "name": "python3"
  },
  "language_info": {
   "codemirror_mode": {
    "name": "ipython",
    "version": 3
   },
   "file_extension": ".py",
   "mimetype": "text/x-python",
   "name": "python",
   "nbconvert_exporter": "python",
   "pygments_lexer": "ipython3",
   "version": "3.7.3"
  }
 },
 "nbformat": 4,
 "nbformat_minor": 2
}
